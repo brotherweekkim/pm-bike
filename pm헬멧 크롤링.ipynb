{
 "cells": [
  {
   "cell_type": "markdown",
   "id": "b9c1fd45",
   "metadata": {},
   "source": [
    "문제 상황: YOLO 학습을 위해 학습 데이터 50종이 필요한 상황에서 구글 크롤링으로 빠르게 하기 위해 코드를 찾았다.\n",
    "\n",
    "\n",
    "결과: 크롤링으로 빠르게 200장의 사진을 다운받을 수 있었지만 직접하는 것보다 화질이 낮고 중복되는 결과가 많았으며 단순 키워드로 검색을 하다보니 원하는 학습데이터가 나오지 않아 20장의 사진만 학습데이터로 활용 가능했다."
   ]
  },
  {
   "cell_type": "markdown",
   "id": "5cdbc82f",
   "metadata": {},
   "source": [
    "참고: https://ssung85.tistory.com/81"
   ]
  },
  {
   "cell_type": "code",
   "execution_count": 1,
   "id": "42660b69",
   "metadata": {},
   "outputs": [
    {
     "ename": "SyntaxError",
     "evalue": "invalid syntax (<ipython-input-1-b1c4fcef1f9b>, line 1)",
     "output_type": "error",
     "traceback": [
      "\u001b[1;36m  File \u001b[1;32m\"<ipython-input-1-b1c4fcef1f9b>\"\u001b[1;36m, line \u001b[1;32m1\u001b[0m\n\u001b[1;33m    pip install beautifulsoup4\u001b[0m\n\u001b[1;37m        ^\u001b[0m\n\u001b[1;31mSyntaxError\u001b[0m\u001b[1;31m:\u001b[0m invalid syntax\n"
     ]
    }
   ],
   "source": [
    "pip install beautifulsoup4\n",
    "pip install selenium\n",
    "pip install requests"
   ]
  },
  {
   "cell_type": "code",
   "execution_count": 2,
   "id": "b20ed3d5",
   "metadata": {},
   "outputs": [],
   "source": [
    "from urllib.request import urlretrieve\n",
    "from urllib.parse import quote_plus    \n",
    "from bs4 import BeautifulSoup as BS    \n",
    "from selenium import webdriver"
   ]
  },
  {
   "cell_type": "code",
   "execution_count": 17,
   "id": "12bcdc57",
   "metadata": {},
   "outputs": [
    {
     "name": "stdout",
     "output_type": "stream",
     "text": [
      "Image Name : 킥보드 헬멧\n"
     ]
    }
   ],
   "source": [
    "keyword = input(\"Image Name : \") # 찾을 이미지 내용 입력\n",
    "i_URL = f'https://www.google.com/search?q={quote_plus(keyword)}&sxsrf=ALeKk00OQamJ34t56QSInnMzwcC5gC344w:1594968011157&source=lnms&tbm=isch&sa=X&ved=2ahUKEwjXs-7t1tPqAhVF7GEKHfM4DqsQ_AUoAXoECBoQAw&biw=1536&bih=754'\n",
    "# 구글에 검색을 하면 포맷팅한 부분을 제외하고 URL이 같기 때문에 URL값을 변수에 저장\n",
    "# Quote_plus는 URL에 한글이 들어가게 해줌"
   ]
  },
  {
   "cell_type": "code",
   "execution_count": 18,
   "id": "91904e86",
   "metadata": {},
   "outputs": [],
   "source": [
    "driver=webdriver.Chrome('C://chromedriver.exe') #크롬 드라이버, 선행작업으로 크롬드라이버가 있어야함\n",
    "options = webdriver.ChromeOptions()\n",
    "options.add_experimental_option('excludeSwitches', ['enable-logging'])\n",
    "driver.get(i_URL) # URL로 접속"
   ]
  },
  {
   "cell_type": "code",
   "execution_count": 19,
   "id": "2ee6a327",
   "metadata": {},
   "outputs": [
    {
     "name": "stdout",
     "output_type": "stream",
     "text": [
      "Searching...\n",
      "Downloading...\n",
      "FINISH\n"
     ]
    }
   ],
   "source": [
    "html = driver.page_source\n",
    "soup = BS(html,features=\"html.parser\")\n",
    "\n",
    "img = soup.select('img')\n",
    "\n",
    "i_list = []\n",
    "count = 1\n",
    "\n",
    "print(\"Searching...\")\n",
    "for i in img:\n",
    "   try:\n",
    "      i_list.append(i.attrs[\"src\"])\n",
    "   except KeyError:\n",
    "      i_list.append(i.attrs[\"data-src\"])\n",
    "\n",
    "print(\"Downloading...\")\n",
    "for i in i_list:\n",
    "   urlretrieve(i,\"C:/Users/user/pm_helmet/pm_helmet{:05d}\".format(count+139)+\".jpg\") #원하는 위치, 파일명을 지정해서 작성\n",
    "   count+=1\n",
    "\n",
    "driver.close()\n",
    "print(\"FINISH\")"
   ]
  },
  {
   "cell_type": "markdown",
   "id": "47af9520",
   "metadata": {},
   "source": [
    "< urlretrieve  vs  urlopen >\n",
    "\n",
    " ㅇ urlretrieve\n",
    "\n",
    "    - Direct 저장( 엑셀파일, 공공기관 api 데이터 같은 한번에 데이터를 저장할 때 사용) \n",
    "\n",
    "         => 저장 -> open('r) -> 변수에 할당 -> 파싱 -> 저장\n",
    "\n",
    "​\n",
    "\n",
    " ㅇ urlopen \n",
    "\n",
    "    - 메모리에 저장( 파싱이 필요한 경우 urlopen을 사용)\n",
    "\n",
    "      => 변수 할당 -> 파싱 -> 저장(db..)\n",
    "[출처] < request vs urllib >  < urlopen vs urlretrieve >|작성자 소소한 일상\n",
    "https://blog.naver.com/ecomarin/221787708060"
   ]
  },
  {
   "cell_type": "code",
   "execution_count": 11,
   "id": "e3b3e4dc",
   "metadata": {},
   "outputs": [
    {
     "name": "stdout",
     "output_type": "stream",
     "text": [
      "C:/Users/user/pm_helmet/pm_helmet00100.jpg\n"
     ]
    }
   ],
   "source": [
    "#print(\"C:/Users/user/pm_helmet/pm_helmet\"+\"{:05d}\".format(100)+\".jpg\")"
   ]
  },
  {
   "cell_type": "code",
   "execution_count": null,
   "id": "935a076a",
   "metadata": {},
   "outputs": [],
   "source": []
  }
 ],
 "metadata": {
  "kernelspec": {
   "display_name": "Python 3",
   "language": "python",
   "name": "python3"
  },
  "language_info": {
   "codemirror_mode": {
    "name": "ipython",
    "version": 3
   },
   "file_extension": ".py",
   "mimetype": "text/x-python",
   "name": "python",
   "nbconvert_exporter": "python",
   "pygments_lexer": "ipython3",
   "version": "3.8.8"
  }
 },
 "nbformat": 4,
 "nbformat_minor": 5
}
