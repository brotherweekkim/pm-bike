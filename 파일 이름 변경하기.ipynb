{
 "cells": [
  {
   "cell_type": "code",
   "execution_count": 7,
   "id": "50324f5d",
   "metadata": {},
   "outputs": [],
   "source": [
    "import os"
   ]
  },
  {
   "cell_type": "code",
   "execution_count": 19,
   "id": "75e8d823",
   "metadata": {},
   "outputs": [],
   "source": [
    "file_path = \"C:/Users/user/Desktop/pm_helmet labeling\""
   ]
  },
  {
   "cell_type": "code",
   "execution_count": 20,
   "id": "b6149cd7",
   "metadata": {
    "collapsed": true
   },
   "outputs": [
    {
     "name": "stdout",
     "output_type": "stream",
     "text": [
      "['pm_helmet00001.jpg', 'pm_helmet00001.txt', 'pm_helmet00002.jpg', 'pm_helmet00002.txt', 'pm_helmet00003.jpg', 'pm_helmet00003.txt', 'pm_helmet00004.jpg', 'pm_helmet00004.txt', 'pm_helmet00005.jpg', 'pm_helmet00005.txt', 'pm_helmet00006.jpg', 'pm_helmet00006.txt', 'pm_helmet00007.jpg', 'pm_helmet00007.txt', 'pm_helmet00008.jpg', 'pm_helmet00008.txt', 'pm_helmet00009.jpg', 'pm_helmet00009.txt', 'pm_helmet00010.jpg', 'pm_helmet00010.txt', 'pm_helmet00011.jpg', 'pm_helmet00011.txt', 'pm_helmet00012.jpg', 'pm_helmet00012.txt', 'pm_helmet00013.jpg', 'pm_helmet00013.txt', 'pm_helmet00014.jpg', 'pm_helmet00014.txt', 'pm_helmet00015.jpg', 'pm_helmet00015.txt', 'pm_helmet00016.jpg', 'pm_helmet00016.txt', 'pm_helmet00017.jpg', 'pm_helmet00017.txt', 'pm_helmet00018.txt', 'pm_helmet00018jpg', 'pm_helmet00019.txt', 'pm_helmet00019jpg', 'pm_helmet00020.txt', 'pm_helmet00020jpg', 'pm_helmet00021.txt', 'pm_helmet00021jpg', 'pm_helmet00022.txt', 'pm_helmet00022jpg', 'pm_helmet00023.txt', 'pm_helmet00023jpg', 'pm_helmet00024.txt', 'pm_helmet00024jpg', 'pm_helmet00025.txt', 'pm_helmet00025jpg', 'pm_helmet00026.txt', 'pm_helmet00026jpg', 'pm_helmet00027.txt', 'pm_helmet00027jpg', 'pm_helmet00028.txt', 'pm_helmet00028jpg', 'pm_helmet00029jpg', 'pm_helmet00030jpg', 'pm_helmet00031jpg', 'pm_helmet00032jpg', 'pm_helmet00033jpg', 'pm_helmet00034jpg', 'pm_helmet00035jpg', 'pm_helmet00036jpg', 'pm_helmet00037jpg', 'pm_helmet00038jpg', 'pm_helmet00039jpg', 'pm_helmet00040jpg', 'pm_helmet00041jpg', 'pm_helmet00042jpg', 'pm_helmet00043jpg', 'pm_helmet00044jpg', 'pm_helmet00045jpg', 'pm_helmet00046jpg', 'pm_helmet00047jpg', 'pm_helmet00048jpg', 'pm_helmet00049jpg', 'pm_helmet00050jpg', 'pm_helmet00051jpg', 'pm_helmet00052jpg', 'pm_helmet00053jpg', 'pm_helmet00054jpg', 'pm_helmet00055jpg', 'pm_helmet00056jpg', 'pm_helmet00057jpg', 'pm_helmet00058jpg', 'pm_helmet00059jpg', 'pm_helmet00060jpg', 'pm_helmet00061jpg', 'pm_helmet00062jpg', 'pm_helmet00063jpg', 'pm_helmet00064jpg', 'pm_helmet00065jpg', 'pm_helmet00066jpg', 'pm_helmet00067jpg', 'pm_helmet00068jpg', 'pm_helmet00069jpg', 'pm_helmet00070jpg', 'pm_helmet00071jpg', 'pm_helmet00072jpg', 'pm_helmet00073jpg', 'pm_helmet00074jpg', 'pm_helmet00075jpg', 'pm_helmet00076jpg', 'pm_helmet00077jpg', 'pm_helmet00078jpg', 'pm_helmet00079jpg', 'pm_helmet00080jpg', 'pm_helmet00081jpg', 'pm_helmet00082jpg', 'pm_helmet00083jpg', 'pm_helmet00084jpg']\n"
     ]
    }
   ],
   "source": [
    "print(os.listdir(file_path))"
   ]
  },
  {
   "cell_type": "code",
   "execution_count": 21,
   "id": "f9134032",
   "metadata": {},
   "outputs": [],
   "source": [
    "file_path_abs = [os.path.join(file_path,i) for i in os.listdir(file_path)]"
   ]
  },
  {
   "cell_type": "code",
   "execution_count": 22,
   "id": "716cb120",
   "metadata": {},
   "outputs": [
    {
     "data": {
      "text/plain": [
       "['C:/Users/user/Desktop/pm_helmet labeling\\\\pm_helmet00001.jpg',\n",
       " 'C:/Users/user/Desktop/pm_helmet labeling\\\\pm_helmet00001.txt',\n",
       " 'C:/Users/user/Desktop/pm_helmet labeling\\\\pm_helmet00002.jpg',\n",
       " 'C:/Users/user/Desktop/pm_helmet labeling\\\\pm_helmet00002.txt',\n",
       " 'C:/Users/user/Desktop/pm_helmet labeling\\\\pm_helmet00003.jpg',\n",
       " 'C:/Users/user/Desktop/pm_helmet labeling\\\\pm_helmet00003.txt',\n",
       " 'C:/Users/user/Desktop/pm_helmet labeling\\\\pm_helmet00004.jpg',\n",
       " 'C:/Users/user/Desktop/pm_helmet labeling\\\\pm_helmet00004.txt',\n",
       " 'C:/Users/user/Desktop/pm_helmet labeling\\\\pm_helmet00005.jpg',\n",
       " 'C:/Users/user/Desktop/pm_helmet labeling\\\\pm_helmet00005.txt',\n",
       " 'C:/Users/user/Desktop/pm_helmet labeling\\\\pm_helmet00006.jpg',\n",
       " 'C:/Users/user/Desktop/pm_helmet labeling\\\\pm_helmet00006.txt',\n",
       " 'C:/Users/user/Desktop/pm_helmet labeling\\\\pm_helmet00007.jpg',\n",
       " 'C:/Users/user/Desktop/pm_helmet labeling\\\\pm_helmet00007.txt',\n",
       " 'C:/Users/user/Desktop/pm_helmet labeling\\\\pm_helmet00008.jpg',\n",
       " 'C:/Users/user/Desktop/pm_helmet labeling\\\\pm_helmet00008.txt',\n",
       " 'C:/Users/user/Desktop/pm_helmet labeling\\\\pm_helmet00009.jpg',\n",
       " 'C:/Users/user/Desktop/pm_helmet labeling\\\\pm_helmet00009.txt',\n",
       " 'C:/Users/user/Desktop/pm_helmet labeling\\\\pm_helmet00010.jpg',\n",
       " 'C:/Users/user/Desktop/pm_helmet labeling\\\\pm_helmet00010.txt',\n",
       " 'C:/Users/user/Desktop/pm_helmet labeling\\\\pm_helmet00011.jpg',\n",
       " 'C:/Users/user/Desktop/pm_helmet labeling\\\\pm_helmet00011.txt',\n",
       " 'C:/Users/user/Desktop/pm_helmet labeling\\\\pm_helmet00012.jpg',\n",
       " 'C:/Users/user/Desktop/pm_helmet labeling\\\\pm_helmet00012.txt',\n",
       " 'C:/Users/user/Desktop/pm_helmet labeling\\\\pm_helmet00013.jpg',\n",
       " 'C:/Users/user/Desktop/pm_helmet labeling\\\\pm_helmet00013.txt',\n",
       " 'C:/Users/user/Desktop/pm_helmet labeling\\\\pm_helmet00014.jpg',\n",
       " 'C:/Users/user/Desktop/pm_helmet labeling\\\\pm_helmet00014.txt',\n",
       " 'C:/Users/user/Desktop/pm_helmet labeling\\\\pm_helmet00015.jpg',\n",
       " 'C:/Users/user/Desktop/pm_helmet labeling\\\\pm_helmet00015.txt',\n",
       " 'C:/Users/user/Desktop/pm_helmet labeling\\\\pm_helmet00016.jpg',\n",
       " 'C:/Users/user/Desktop/pm_helmet labeling\\\\pm_helmet00016.txt',\n",
       " 'C:/Users/user/Desktop/pm_helmet labeling\\\\pm_helmet00017.jpg',\n",
       " 'C:/Users/user/Desktop/pm_helmet labeling\\\\pm_helmet00017.txt',\n",
       " 'C:/Users/user/Desktop/pm_helmet labeling\\\\pm_helmet00018.txt',\n",
       " 'C:/Users/user/Desktop/pm_helmet labeling\\\\pm_helmet00018jpg',\n",
       " 'C:/Users/user/Desktop/pm_helmet labeling\\\\pm_helmet00019.txt',\n",
       " 'C:/Users/user/Desktop/pm_helmet labeling\\\\pm_helmet00019jpg',\n",
       " 'C:/Users/user/Desktop/pm_helmet labeling\\\\pm_helmet00020.txt',\n",
       " 'C:/Users/user/Desktop/pm_helmet labeling\\\\pm_helmet00020jpg',\n",
       " 'C:/Users/user/Desktop/pm_helmet labeling\\\\pm_helmet00021.txt',\n",
       " 'C:/Users/user/Desktop/pm_helmet labeling\\\\pm_helmet00021jpg',\n",
       " 'C:/Users/user/Desktop/pm_helmet labeling\\\\pm_helmet00022.txt',\n",
       " 'C:/Users/user/Desktop/pm_helmet labeling\\\\pm_helmet00022jpg',\n",
       " 'C:/Users/user/Desktop/pm_helmet labeling\\\\pm_helmet00023.txt',\n",
       " 'C:/Users/user/Desktop/pm_helmet labeling\\\\pm_helmet00023jpg',\n",
       " 'C:/Users/user/Desktop/pm_helmet labeling\\\\pm_helmet00024.txt',\n",
       " 'C:/Users/user/Desktop/pm_helmet labeling\\\\pm_helmet00024jpg',\n",
       " 'C:/Users/user/Desktop/pm_helmet labeling\\\\pm_helmet00025.txt',\n",
       " 'C:/Users/user/Desktop/pm_helmet labeling\\\\pm_helmet00025jpg',\n",
       " 'C:/Users/user/Desktop/pm_helmet labeling\\\\pm_helmet00026.txt',\n",
       " 'C:/Users/user/Desktop/pm_helmet labeling\\\\pm_helmet00026jpg',\n",
       " 'C:/Users/user/Desktop/pm_helmet labeling\\\\pm_helmet00027.txt',\n",
       " 'C:/Users/user/Desktop/pm_helmet labeling\\\\pm_helmet00027jpg',\n",
       " 'C:/Users/user/Desktop/pm_helmet labeling\\\\pm_helmet00028.txt',\n",
       " 'C:/Users/user/Desktop/pm_helmet labeling\\\\pm_helmet00028jpg',\n",
       " 'C:/Users/user/Desktop/pm_helmet labeling\\\\pm_helmet00029jpg',\n",
       " 'C:/Users/user/Desktop/pm_helmet labeling\\\\pm_helmet00030jpg',\n",
       " 'C:/Users/user/Desktop/pm_helmet labeling\\\\pm_helmet00031jpg',\n",
       " 'C:/Users/user/Desktop/pm_helmet labeling\\\\pm_helmet00032jpg',\n",
       " 'C:/Users/user/Desktop/pm_helmet labeling\\\\pm_helmet00033jpg',\n",
       " 'C:/Users/user/Desktop/pm_helmet labeling\\\\pm_helmet00034jpg',\n",
       " 'C:/Users/user/Desktop/pm_helmet labeling\\\\pm_helmet00035jpg',\n",
       " 'C:/Users/user/Desktop/pm_helmet labeling\\\\pm_helmet00036jpg',\n",
       " 'C:/Users/user/Desktop/pm_helmet labeling\\\\pm_helmet00037jpg',\n",
       " 'C:/Users/user/Desktop/pm_helmet labeling\\\\pm_helmet00038jpg',\n",
       " 'C:/Users/user/Desktop/pm_helmet labeling\\\\pm_helmet00039jpg',\n",
       " 'C:/Users/user/Desktop/pm_helmet labeling\\\\pm_helmet00040jpg',\n",
       " 'C:/Users/user/Desktop/pm_helmet labeling\\\\pm_helmet00041jpg',\n",
       " 'C:/Users/user/Desktop/pm_helmet labeling\\\\pm_helmet00042jpg',\n",
       " 'C:/Users/user/Desktop/pm_helmet labeling\\\\pm_helmet00043jpg',\n",
       " 'C:/Users/user/Desktop/pm_helmet labeling\\\\pm_helmet00044jpg',\n",
       " 'C:/Users/user/Desktop/pm_helmet labeling\\\\pm_helmet00045jpg',\n",
       " 'C:/Users/user/Desktop/pm_helmet labeling\\\\pm_helmet00046jpg',\n",
       " 'C:/Users/user/Desktop/pm_helmet labeling\\\\pm_helmet00047jpg',\n",
       " 'C:/Users/user/Desktop/pm_helmet labeling\\\\pm_helmet00048jpg',\n",
       " 'C:/Users/user/Desktop/pm_helmet labeling\\\\pm_helmet00049jpg',\n",
       " 'C:/Users/user/Desktop/pm_helmet labeling\\\\pm_helmet00050jpg',\n",
       " 'C:/Users/user/Desktop/pm_helmet labeling\\\\pm_helmet00051jpg',\n",
       " 'C:/Users/user/Desktop/pm_helmet labeling\\\\pm_helmet00052jpg',\n",
       " 'C:/Users/user/Desktop/pm_helmet labeling\\\\pm_helmet00053jpg',\n",
       " 'C:/Users/user/Desktop/pm_helmet labeling\\\\pm_helmet00054jpg',\n",
       " 'C:/Users/user/Desktop/pm_helmet labeling\\\\pm_helmet00055jpg',\n",
       " 'C:/Users/user/Desktop/pm_helmet labeling\\\\pm_helmet00056jpg',\n",
       " 'C:/Users/user/Desktop/pm_helmet labeling\\\\pm_helmet00057jpg',\n",
       " 'C:/Users/user/Desktop/pm_helmet labeling\\\\pm_helmet00058jpg',\n",
       " 'C:/Users/user/Desktop/pm_helmet labeling\\\\pm_helmet00059jpg',\n",
       " 'C:/Users/user/Desktop/pm_helmet labeling\\\\pm_helmet00060jpg',\n",
       " 'C:/Users/user/Desktop/pm_helmet labeling\\\\pm_helmet00061jpg',\n",
       " 'C:/Users/user/Desktop/pm_helmet labeling\\\\pm_helmet00062jpg',\n",
       " 'C:/Users/user/Desktop/pm_helmet labeling\\\\pm_helmet00063jpg',\n",
       " 'C:/Users/user/Desktop/pm_helmet labeling\\\\pm_helmet00064jpg',\n",
       " 'C:/Users/user/Desktop/pm_helmet labeling\\\\pm_helmet00065jpg',\n",
       " 'C:/Users/user/Desktop/pm_helmet labeling\\\\pm_helmet00066jpg',\n",
       " 'C:/Users/user/Desktop/pm_helmet labeling\\\\pm_helmet00067jpg',\n",
       " 'C:/Users/user/Desktop/pm_helmet labeling\\\\pm_helmet00068jpg',\n",
       " 'C:/Users/user/Desktop/pm_helmet labeling\\\\pm_helmet00069jpg',\n",
       " 'C:/Users/user/Desktop/pm_helmet labeling\\\\pm_helmet00070jpg',\n",
       " 'C:/Users/user/Desktop/pm_helmet labeling\\\\pm_helmet00071jpg',\n",
       " 'C:/Users/user/Desktop/pm_helmet labeling\\\\pm_helmet00072jpg',\n",
       " 'C:/Users/user/Desktop/pm_helmet labeling\\\\pm_helmet00073jpg',\n",
       " 'C:/Users/user/Desktop/pm_helmet labeling\\\\pm_helmet00074jpg',\n",
       " 'C:/Users/user/Desktop/pm_helmet labeling\\\\pm_helmet00075jpg',\n",
       " 'C:/Users/user/Desktop/pm_helmet labeling\\\\pm_helmet00076jpg',\n",
       " 'C:/Users/user/Desktop/pm_helmet labeling\\\\pm_helmet00077jpg',\n",
       " 'C:/Users/user/Desktop/pm_helmet labeling\\\\pm_helmet00078jpg',\n",
       " 'C:/Users/user/Desktop/pm_helmet labeling\\\\pm_helmet00079jpg',\n",
       " 'C:/Users/user/Desktop/pm_helmet labeling\\\\pm_helmet00080jpg',\n",
       " 'C:/Users/user/Desktop/pm_helmet labeling\\\\pm_helmet00081jpg',\n",
       " 'C:/Users/user/Desktop/pm_helmet labeling\\\\pm_helmet00082jpg',\n",
       " 'C:/Users/user/Desktop/pm_helmet labeling\\\\pm_helmet00083jpg',\n",
       " 'C:/Users/user/Desktop/pm_helmet labeling\\\\pm_helmet00084jpg']"
      ]
     },
     "execution_count": 22,
     "metadata": {},
     "output_type": "execute_result"
    }
   ],
   "source": [
    "file_path_abs"
   ]
  },
  {
   "cell_type": "code",
   "execution_count": 26,
   "id": "996cc269",
   "metadata": {},
   "outputs": [
    {
     "data": {
      "text/plain": [
       "['pm_helmet00057jpg']"
      ]
     },
     "execution_count": 26,
     "metadata": {},
     "output_type": "execute_result"
    }
   ],
   "source": [
    "file_name = os.path.basename(file_path_abs[84])\n",
    "file_name.split('.')"
   ]
  },
  {
   "cell_type": "code",
   "execution_count": 18,
   "id": "a0793c2c",
   "metadata": {},
   "outputs": [],
   "source": [
    "i = 1\n",
    "j = 1\n",
    "for file in file_path_abs:\n",
    "    dir_path = os.path.dirname(file)\n",
    "    file_name = os.path.basename(file)\n",
    "    if file_name.split('.')[1] == 'jpg':\n",
    "        file_name_new = 'pm_helmet{:05d}.'.format(i)+file_name.split('.')[1]\n",
    "        i+=1\n",
    "    elif file_name.split('.')[1] == 'txt':\n",
    "        file_name_new = 'pm_helmet{:05d}.'.format(j)+file_name.split('.')[1]\n",
    "        j+=1\n",
    "    os.rename(file, os.path.join(dir_path, file_name_new))"
   ]
  },
  {
   "cell_type": "code",
   "execution_count": null,
   "id": "5aa6c548",
   "metadata": {},
   "outputs": [],
   "source": [
    "for file in file_path_abs:\n",
    "    dir_path = os.path.dirname(file)\n",
    "    file_name = os.path.basename(file)\n",
    "    if file_name_new"
   ]
  }
 ],
 "metadata": {
  "kernelspec": {
   "display_name": "Python 3",
   "language": "python",
   "name": "python3"
  },
  "language_info": {
   "codemirror_mode": {
    "name": "ipython",
    "version": 3
   },
   "file_extension": ".py",
   "mimetype": "text/x-python",
   "name": "python",
   "nbconvert_exporter": "python",
   "pygments_lexer": "ipython3",
   "version": "3.8.8"
  }
 },
 "nbformat": 4,
 "nbformat_minor": 5
}
