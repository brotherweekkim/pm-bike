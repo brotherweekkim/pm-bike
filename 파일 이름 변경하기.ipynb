{
 "cells": [
  {
   "cell_type": "markdown",
   "id": "04b3d27b",
   "metadata": {},
   "source": [
    "문제 상황:  - 크롤링으로 사진을 다운받고 필요없는 사진을 제거하다보니 파일명이 뒤죽박죽이 되었다.\n",
    "            - 확장자가 다른 파일이 있어서 일괄적으로 파일을 변경할 수 없었다.\n",
    "결과: 확장자를 split함수로 분류했고 jpg인 경우와 txt인 경우로 if문을 작성했다. 하지만 '.'을 넣지 않은 실수로 결국 일일히 .을 찍어주었다... "
   ]
  },
  {
   "cell_type": "markdown",
   "id": "6a91536f",
   "metadata": {},
   "source": [
    "참고: https://www.youtube.com/watch?v=jXuXrOBzKuA&t=315s"
   ]
  },
  {
   "cell_type": "code",
   "execution_count": 2,
   "id": "50324f5d",
   "metadata": {},
   "outputs": [],
   "source": [
    "import os"
   ]
  },
  {
   "cell_type": "code",
   "execution_count": 4,
   "id": "75e8d823",
   "metadata": {},
   "outputs": [],
   "source": [
    "file_path = \"C:/Users/user/Desktop/pm_helmet labeling\" # 바꾸고 싶은 파일이 있는 경로"
   ]
  },
  {
   "cell_type": "code",
   "execution_count": 5,
   "id": "b6149cd7",
   "metadata": {},
   "outputs": [
    {
     "name": "stdout",
     "output_type": "stream",
     "text": [
      "['pm_helmet00001.jpg', 'pm_helmet00001.txt', 'pm_helmet00002.jpg', 'pm_helmet00002.txt', 'pm_helmet00003.jpg', 'pm_helmet00003.txt', 'pm_helmet00004.jpg', 'pm_helmet00004.txt', 'pm_helmet00005.jpg', 'pm_helmet00005.txt', 'pm_helmet00006.jpg', 'pm_helmet00006.txt', 'pm_helmet00007.jpg', 'pm_helmet00007.txt', 'pm_helmet00008.jpg', 'pm_helmet00008.txt', 'pm_helmet00009.jpg', 'pm_helmet00009.txt', 'pm_helmet00010.jpg', 'pm_helmet00010.txt', 'pm_helmet00011.jpg', 'pm_helmet00011.txt', 'pm_helmet00012.jpg', 'pm_helmet00012.txt', 'pm_helmet00013.jpg', 'pm_helmet00013.txt', 'pm_helmet00014.jpg', 'pm_helmet00014.txt', 'pm_helmet00015.jpg', 'pm_helmet00015.txt', 'pm_helmet00016.jpg', 'pm_helmet00016.txt', 'pm_helmet00017.jpg', 'pm_helmet00017.txt', 'pm_helmet00018.jpg', 'pm_helmet00018.txt', 'pm_helmet00019.jpg', 'pm_helmet00019.txt', 'pm_helmet00020.jpg', 'pm_helmet00020.txt', 'pm_helmet00021.jpg', 'pm_helmet00021.txt', 'pm_helmet00022.jpg', 'pm_helmet00022.txt', 'pm_helmet00023.jpg', 'pm_helmet00023.txt', 'pm_helmet00024.jpg', 'pm_helmet00024.txt', 'pm_helmet00025.jpg', 'pm_helmet00025.txt', 'pm_helmet00026.jpg', 'pm_helmet00026.txt', 'pm_helmet00027.jpg', 'pm_helmet00027.txt', 'pm_helmet00028.jpg', 'pm_helmet00028.txt', 'pm_helmet00029.jpg', 'pm_helmet00029.txt', 'pm_helmet00030.jpg', 'pm_helmet00030.txt', 'pm_helmet00031.jpg', 'pm_helmet00031.txt', 'pm_helmet00032.jpg', 'pm_helmet00032.txt', 'pm_helmet00033.jpg', 'pm_helmet00033.txt', 'pm_helmet00034.jpg', 'pm_helmet00034.txt', 'pm_helmet00035.jpg', 'pm_helmet00035.txt', 'pm_helmet00036.jpg', 'pm_helmet00036.txt', 'pm_helmet00037.jpg', 'pm_helmet00037.txt', 'pm_helmet00038.jpg', 'pm_helmet00038.txt', 'pm_helmet00039.jpg', 'pm_helmet00039.txt', 'pm_helmet00040.jpg', 'pm_helmet00040.txt', 'pm_helmet00041.jpg', 'pm_helmet00041.txt', 'pm_helmet00042.jpg', 'pm_helmet00042.txt', 'pm_helmet00043.jpg', 'pm_helmet00043.txt', 'pm_helmet00044.jpg', 'pm_helmet00044.txt', 'pm_helmet00045.jpg', 'pm_helmet00045.txt', 'pm_helmet00046.jpg', 'pm_helmet00046.txt', 'pm_helmet00047.jpg', 'pm_helmet00047.txt', 'pm_helmet00048.jpg', 'pm_helmet00048.txt', 'pm_helmet00049.jpg', 'pm_helmet00049.txt', 'pm_helmet00050.jpg', 'pm_helmet00050.txt', 'pm_helmet00051.jpg', 'pm_helmet00051.txt', 'pm_helmet00052.jpg', 'pm_helmet00052.txt', 'pm_helmet00053.jpg', 'pm_helmet00053.txt', 'pm_helmet00054.jpg', 'pm_helmet00054.txt', 'pm_helmet00055.jpg', 'pm_helmet00055.txt', 'pm_helmet00056.jpg', 'pm_helmet00056.txt', 'pm_helmet00057.jpg', 'pm_helmet00057.txt', 'pm_helmet00058.jpg', 'pm_helmet00058.txt', 'pm_helmet00059.jpg', 'pm_helmet00059.txt', 'pm_helmet00060.jpg', 'pm_helmet00060.txt', 'pm_helmet00061.jpg', 'pm_helmet00061.txt', 'pm_helmet00062.jpg', 'pm_helmet00062.txt', 'pm_helmet00063.jpg', 'pm_helmet00063.txt', 'pm_helmet00064.jpg', 'pm_helmet00064.txt', 'pm_helmet00065.jpg', 'pm_helmet00065.txt', 'pm_helmet00066.jpg', 'pm_helmet00066.txt', 'pm_helmet00067.jpg', 'pm_helmet00067.txt', 'pm_helmet00068.jpg', 'pm_helmet00068.txt', 'pm_helmet00069.jpg', 'pm_helmet00069.txt', 'pm_helmet00070.jpg', 'pm_helmet00070.txt', 'pm_helmet00071.jpg', 'pm_helmet00071.txt', 'pm_helmet00072.jpg', 'pm_helmet00072.txt', 'pm_helmet00073.jpg', 'pm_helmet00073.txt', 'pm_helmet00074.jpg', 'pm_helmet00074.txt', 'pm_helmet00075.jpg', 'pm_helmet00075.txt', 'pm_helmet00076.jpg', 'pm_helmet00076.txt', 'pm_helmet00077.jpg', 'pm_helmet00077.txt', 'pm_helmet00078.jpg', 'pm_helmet00078.txt', 'pm_helmet00079.jpg', 'pm_helmet00079.txt', 'pm_helmet00080.jpg', 'pm_helmet00080.txt', 'pm_helmet00081.jpg', 'pm_helmet00081.txt', 'pm_helmet00082.jpg', 'pm_helmet00082.txt', 'pm_helmet00083.jpg', 'pm_helmet00083.txt', 'pm_helmet00084.jpg', 'pm_helmet00084.txt']\n"
     ]
    }
   ],
   "source": [
    "print(os.listdir(file_path)) # 파일 이름 확인"
   ]
  },
  {
   "cell_type": "code",
   "execution_count": 6,
   "id": "f9134032",
   "metadata": {},
   "outputs": [],
   "source": [
    "file_path_abs = [os.path.join(file_path,i) for i in os.listdir(file_path)] # 파일의 절대 경로를 저장한다."
   ]
  },
  {
   "cell_type": "code",
   "execution_count": 7,
   "id": "716cb120",
   "metadata": {},
   "outputs": [
    {
     "data": {
      "text/plain": [
       "['C:/Users/user/Desktop/pm_helmet labeling\\\\pm_helmet00001.jpg',\n",
       " 'C:/Users/user/Desktop/pm_helmet labeling\\\\pm_helmet00001.txt',\n",
       " 'C:/Users/user/Desktop/pm_helmet labeling\\\\pm_helmet00002.jpg',\n",
       " 'C:/Users/user/Desktop/pm_helmet labeling\\\\pm_helmet00002.txt',\n",
       " 'C:/Users/user/Desktop/pm_helmet labeling\\\\pm_helmet00003.jpg',\n",
       " 'C:/Users/user/Desktop/pm_helmet labeling\\\\pm_helmet00003.txt',\n",
       " 'C:/Users/user/Desktop/pm_helmet labeling\\\\pm_helmet00004.jpg',\n",
       " 'C:/Users/user/Desktop/pm_helmet labeling\\\\pm_helmet00004.txt',\n",
       " 'C:/Users/user/Desktop/pm_helmet labeling\\\\pm_helmet00005.jpg',\n",
       " 'C:/Users/user/Desktop/pm_helmet labeling\\\\pm_helmet00005.txt',\n",
       " 'C:/Users/user/Desktop/pm_helmet labeling\\\\pm_helmet00006.jpg',\n",
       " 'C:/Users/user/Desktop/pm_helmet labeling\\\\pm_helmet00006.txt',\n",
       " 'C:/Users/user/Desktop/pm_helmet labeling\\\\pm_helmet00007.jpg',\n",
       " 'C:/Users/user/Desktop/pm_helmet labeling\\\\pm_helmet00007.txt',\n",
       " 'C:/Users/user/Desktop/pm_helmet labeling\\\\pm_helmet00008.jpg',\n",
       " 'C:/Users/user/Desktop/pm_helmet labeling\\\\pm_helmet00008.txt',\n",
       " 'C:/Users/user/Desktop/pm_helmet labeling\\\\pm_helmet00009.jpg',\n",
       " 'C:/Users/user/Desktop/pm_helmet labeling\\\\pm_helmet00009.txt',\n",
       " 'C:/Users/user/Desktop/pm_helmet labeling\\\\pm_helmet00010.jpg',\n",
       " 'C:/Users/user/Desktop/pm_helmet labeling\\\\pm_helmet00010.txt',\n",
       " 'C:/Users/user/Desktop/pm_helmet labeling\\\\pm_helmet00011.jpg',\n",
       " 'C:/Users/user/Desktop/pm_helmet labeling\\\\pm_helmet00011.txt',\n",
       " 'C:/Users/user/Desktop/pm_helmet labeling\\\\pm_helmet00012.jpg',\n",
       " 'C:/Users/user/Desktop/pm_helmet labeling\\\\pm_helmet00012.txt',\n",
       " 'C:/Users/user/Desktop/pm_helmet labeling\\\\pm_helmet00013.jpg',\n",
       " 'C:/Users/user/Desktop/pm_helmet labeling\\\\pm_helmet00013.txt',\n",
       " 'C:/Users/user/Desktop/pm_helmet labeling\\\\pm_helmet00014.jpg',\n",
       " 'C:/Users/user/Desktop/pm_helmet labeling\\\\pm_helmet00014.txt',\n",
       " 'C:/Users/user/Desktop/pm_helmet labeling\\\\pm_helmet00015.jpg',\n",
       " 'C:/Users/user/Desktop/pm_helmet labeling\\\\pm_helmet00015.txt',\n",
       " 'C:/Users/user/Desktop/pm_helmet labeling\\\\pm_helmet00016.jpg',\n",
       " 'C:/Users/user/Desktop/pm_helmet labeling\\\\pm_helmet00016.txt',\n",
       " 'C:/Users/user/Desktop/pm_helmet labeling\\\\pm_helmet00017.jpg',\n",
       " 'C:/Users/user/Desktop/pm_helmet labeling\\\\pm_helmet00017.txt',\n",
       " 'C:/Users/user/Desktop/pm_helmet labeling\\\\pm_helmet00018.jpg',\n",
       " 'C:/Users/user/Desktop/pm_helmet labeling\\\\pm_helmet00018.txt',\n",
       " 'C:/Users/user/Desktop/pm_helmet labeling\\\\pm_helmet00019.jpg',\n",
       " 'C:/Users/user/Desktop/pm_helmet labeling\\\\pm_helmet00019.txt',\n",
       " 'C:/Users/user/Desktop/pm_helmet labeling\\\\pm_helmet00020.jpg',\n",
       " 'C:/Users/user/Desktop/pm_helmet labeling\\\\pm_helmet00020.txt',\n",
       " 'C:/Users/user/Desktop/pm_helmet labeling\\\\pm_helmet00021.jpg',\n",
       " 'C:/Users/user/Desktop/pm_helmet labeling\\\\pm_helmet00021.txt',\n",
       " 'C:/Users/user/Desktop/pm_helmet labeling\\\\pm_helmet00022.jpg',\n",
       " 'C:/Users/user/Desktop/pm_helmet labeling\\\\pm_helmet00022.txt',\n",
       " 'C:/Users/user/Desktop/pm_helmet labeling\\\\pm_helmet00023.jpg',\n",
       " 'C:/Users/user/Desktop/pm_helmet labeling\\\\pm_helmet00023.txt',\n",
       " 'C:/Users/user/Desktop/pm_helmet labeling\\\\pm_helmet00024.jpg',\n",
       " 'C:/Users/user/Desktop/pm_helmet labeling\\\\pm_helmet00024.txt',\n",
       " 'C:/Users/user/Desktop/pm_helmet labeling\\\\pm_helmet00025.jpg',\n",
       " 'C:/Users/user/Desktop/pm_helmet labeling\\\\pm_helmet00025.txt',\n",
       " 'C:/Users/user/Desktop/pm_helmet labeling\\\\pm_helmet00026.jpg',\n",
       " 'C:/Users/user/Desktop/pm_helmet labeling\\\\pm_helmet00026.txt',\n",
       " 'C:/Users/user/Desktop/pm_helmet labeling\\\\pm_helmet00027.jpg',\n",
       " 'C:/Users/user/Desktop/pm_helmet labeling\\\\pm_helmet00027.txt',\n",
       " 'C:/Users/user/Desktop/pm_helmet labeling\\\\pm_helmet00028.jpg',\n",
       " 'C:/Users/user/Desktop/pm_helmet labeling\\\\pm_helmet00028.txt',\n",
       " 'C:/Users/user/Desktop/pm_helmet labeling\\\\pm_helmet00029.jpg',\n",
       " 'C:/Users/user/Desktop/pm_helmet labeling\\\\pm_helmet00029.txt',\n",
       " 'C:/Users/user/Desktop/pm_helmet labeling\\\\pm_helmet00030.jpg',\n",
       " 'C:/Users/user/Desktop/pm_helmet labeling\\\\pm_helmet00030.txt',\n",
       " 'C:/Users/user/Desktop/pm_helmet labeling\\\\pm_helmet00031.jpg',\n",
       " 'C:/Users/user/Desktop/pm_helmet labeling\\\\pm_helmet00031.txt',\n",
       " 'C:/Users/user/Desktop/pm_helmet labeling\\\\pm_helmet00032.jpg',\n",
       " 'C:/Users/user/Desktop/pm_helmet labeling\\\\pm_helmet00032.txt',\n",
       " 'C:/Users/user/Desktop/pm_helmet labeling\\\\pm_helmet00033.jpg',\n",
       " 'C:/Users/user/Desktop/pm_helmet labeling\\\\pm_helmet00033.txt',\n",
       " 'C:/Users/user/Desktop/pm_helmet labeling\\\\pm_helmet00034.jpg',\n",
       " 'C:/Users/user/Desktop/pm_helmet labeling\\\\pm_helmet00034.txt',\n",
       " 'C:/Users/user/Desktop/pm_helmet labeling\\\\pm_helmet00035.jpg',\n",
       " 'C:/Users/user/Desktop/pm_helmet labeling\\\\pm_helmet00035.txt',\n",
       " 'C:/Users/user/Desktop/pm_helmet labeling\\\\pm_helmet00036.jpg',\n",
       " 'C:/Users/user/Desktop/pm_helmet labeling\\\\pm_helmet00036.txt',\n",
       " 'C:/Users/user/Desktop/pm_helmet labeling\\\\pm_helmet00037.jpg',\n",
       " 'C:/Users/user/Desktop/pm_helmet labeling\\\\pm_helmet00037.txt',\n",
       " 'C:/Users/user/Desktop/pm_helmet labeling\\\\pm_helmet00038.jpg',\n",
       " 'C:/Users/user/Desktop/pm_helmet labeling\\\\pm_helmet00038.txt',\n",
       " 'C:/Users/user/Desktop/pm_helmet labeling\\\\pm_helmet00039.jpg',\n",
       " 'C:/Users/user/Desktop/pm_helmet labeling\\\\pm_helmet00039.txt',\n",
       " 'C:/Users/user/Desktop/pm_helmet labeling\\\\pm_helmet00040.jpg',\n",
       " 'C:/Users/user/Desktop/pm_helmet labeling\\\\pm_helmet00040.txt',\n",
       " 'C:/Users/user/Desktop/pm_helmet labeling\\\\pm_helmet00041.jpg',\n",
       " 'C:/Users/user/Desktop/pm_helmet labeling\\\\pm_helmet00041.txt',\n",
       " 'C:/Users/user/Desktop/pm_helmet labeling\\\\pm_helmet00042.jpg',\n",
       " 'C:/Users/user/Desktop/pm_helmet labeling\\\\pm_helmet00042.txt',\n",
       " 'C:/Users/user/Desktop/pm_helmet labeling\\\\pm_helmet00043.jpg',\n",
       " 'C:/Users/user/Desktop/pm_helmet labeling\\\\pm_helmet00043.txt',\n",
       " 'C:/Users/user/Desktop/pm_helmet labeling\\\\pm_helmet00044.jpg',\n",
       " 'C:/Users/user/Desktop/pm_helmet labeling\\\\pm_helmet00044.txt',\n",
       " 'C:/Users/user/Desktop/pm_helmet labeling\\\\pm_helmet00045.jpg',\n",
       " 'C:/Users/user/Desktop/pm_helmet labeling\\\\pm_helmet00045.txt',\n",
       " 'C:/Users/user/Desktop/pm_helmet labeling\\\\pm_helmet00046.jpg',\n",
       " 'C:/Users/user/Desktop/pm_helmet labeling\\\\pm_helmet00046.txt',\n",
       " 'C:/Users/user/Desktop/pm_helmet labeling\\\\pm_helmet00047.jpg',\n",
       " 'C:/Users/user/Desktop/pm_helmet labeling\\\\pm_helmet00047.txt',\n",
       " 'C:/Users/user/Desktop/pm_helmet labeling\\\\pm_helmet00048.jpg',\n",
       " 'C:/Users/user/Desktop/pm_helmet labeling\\\\pm_helmet00048.txt',\n",
       " 'C:/Users/user/Desktop/pm_helmet labeling\\\\pm_helmet00049.jpg',\n",
       " 'C:/Users/user/Desktop/pm_helmet labeling\\\\pm_helmet00049.txt',\n",
       " 'C:/Users/user/Desktop/pm_helmet labeling\\\\pm_helmet00050.jpg',\n",
       " 'C:/Users/user/Desktop/pm_helmet labeling\\\\pm_helmet00050.txt',\n",
       " 'C:/Users/user/Desktop/pm_helmet labeling\\\\pm_helmet00051.jpg',\n",
       " 'C:/Users/user/Desktop/pm_helmet labeling\\\\pm_helmet00051.txt',\n",
       " 'C:/Users/user/Desktop/pm_helmet labeling\\\\pm_helmet00052.jpg',\n",
       " 'C:/Users/user/Desktop/pm_helmet labeling\\\\pm_helmet00052.txt',\n",
       " 'C:/Users/user/Desktop/pm_helmet labeling\\\\pm_helmet00053.jpg',\n",
       " 'C:/Users/user/Desktop/pm_helmet labeling\\\\pm_helmet00053.txt',\n",
       " 'C:/Users/user/Desktop/pm_helmet labeling\\\\pm_helmet00054.jpg',\n",
       " 'C:/Users/user/Desktop/pm_helmet labeling\\\\pm_helmet00054.txt',\n",
       " 'C:/Users/user/Desktop/pm_helmet labeling\\\\pm_helmet00055.jpg',\n",
       " 'C:/Users/user/Desktop/pm_helmet labeling\\\\pm_helmet00055.txt',\n",
       " 'C:/Users/user/Desktop/pm_helmet labeling\\\\pm_helmet00056.jpg',\n",
       " 'C:/Users/user/Desktop/pm_helmet labeling\\\\pm_helmet00056.txt',\n",
       " 'C:/Users/user/Desktop/pm_helmet labeling\\\\pm_helmet00057.jpg',\n",
       " 'C:/Users/user/Desktop/pm_helmet labeling\\\\pm_helmet00057.txt',\n",
       " 'C:/Users/user/Desktop/pm_helmet labeling\\\\pm_helmet00058.jpg',\n",
       " 'C:/Users/user/Desktop/pm_helmet labeling\\\\pm_helmet00058.txt',\n",
       " 'C:/Users/user/Desktop/pm_helmet labeling\\\\pm_helmet00059.jpg',\n",
       " 'C:/Users/user/Desktop/pm_helmet labeling\\\\pm_helmet00059.txt',\n",
       " 'C:/Users/user/Desktop/pm_helmet labeling\\\\pm_helmet00060.jpg',\n",
       " 'C:/Users/user/Desktop/pm_helmet labeling\\\\pm_helmet00060.txt',\n",
       " 'C:/Users/user/Desktop/pm_helmet labeling\\\\pm_helmet00061.jpg',\n",
       " 'C:/Users/user/Desktop/pm_helmet labeling\\\\pm_helmet00061.txt',\n",
       " 'C:/Users/user/Desktop/pm_helmet labeling\\\\pm_helmet00062.jpg',\n",
       " 'C:/Users/user/Desktop/pm_helmet labeling\\\\pm_helmet00062.txt',\n",
       " 'C:/Users/user/Desktop/pm_helmet labeling\\\\pm_helmet00063.jpg',\n",
       " 'C:/Users/user/Desktop/pm_helmet labeling\\\\pm_helmet00063.txt',\n",
       " 'C:/Users/user/Desktop/pm_helmet labeling\\\\pm_helmet00064.jpg',\n",
       " 'C:/Users/user/Desktop/pm_helmet labeling\\\\pm_helmet00064.txt',\n",
       " 'C:/Users/user/Desktop/pm_helmet labeling\\\\pm_helmet00065.jpg',\n",
       " 'C:/Users/user/Desktop/pm_helmet labeling\\\\pm_helmet00065.txt',\n",
       " 'C:/Users/user/Desktop/pm_helmet labeling\\\\pm_helmet00066.jpg',\n",
       " 'C:/Users/user/Desktop/pm_helmet labeling\\\\pm_helmet00066.txt',\n",
       " 'C:/Users/user/Desktop/pm_helmet labeling\\\\pm_helmet00067.jpg',\n",
       " 'C:/Users/user/Desktop/pm_helmet labeling\\\\pm_helmet00067.txt',\n",
       " 'C:/Users/user/Desktop/pm_helmet labeling\\\\pm_helmet00068.jpg',\n",
       " 'C:/Users/user/Desktop/pm_helmet labeling\\\\pm_helmet00068.txt',\n",
       " 'C:/Users/user/Desktop/pm_helmet labeling\\\\pm_helmet00069.jpg',\n",
       " 'C:/Users/user/Desktop/pm_helmet labeling\\\\pm_helmet00069.txt',\n",
       " 'C:/Users/user/Desktop/pm_helmet labeling\\\\pm_helmet00070.jpg',\n",
       " 'C:/Users/user/Desktop/pm_helmet labeling\\\\pm_helmet00070.txt',\n",
       " 'C:/Users/user/Desktop/pm_helmet labeling\\\\pm_helmet00071.jpg',\n",
       " 'C:/Users/user/Desktop/pm_helmet labeling\\\\pm_helmet00071.txt',\n",
       " 'C:/Users/user/Desktop/pm_helmet labeling\\\\pm_helmet00072.jpg',\n",
       " 'C:/Users/user/Desktop/pm_helmet labeling\\\\pm_helmet00072.txt',\n",
       " 'C:/Users/user/Desktop/pm_helmet labeling\\\\pm_helmet00073.jpg',\n",
       " 'C:/Users/user/Desktop/pm_helmet labeling\\\\pm_helmet00073.txt',\n",
       " 'C:/Users/user/Desktop/pm_helmet labeling\\\\pm_helmet00074.jpg',\n",
       " 'C:/Users/user/Desktop/pm_helmet labeling\\\\pm_helmet00074.txt',\n",
       " 'C:/Users/user/Desktop/pm_helmet labeling\\\\pm_helmet00075.jpg',\n",
       " 'C:/Users/user/Desktop/pm_helmet labeling\\\\pm_helmet00075.txt',\n",
       " 'C:/Users/user/Desktop/pm_helmet labeling\\\\pm_helmet00076.jpg',\n",
       " 'C:/Users/user/Desktop/pm_helmet labeling\\\\pm_helmet00076.txt',\n",
       " 'C:/Users/user/Desktop/pm_helmet labeling\\\\pm_helmet00077.jpg',\n",
       " 'C:/Users/user/Desktop/pm_helmet labeling\\\\pm_helmet00077.txt',\n",
       " 'C:/Users/user/Desktop/pm_helmet labeling\\\\pm_helmet00078.jpg',\n",
       " 'C:/Users/user/Desktop/pm_helmet labeling\\\\pm_helmet00078.txt',\n",
       " 'C:/Users/user/Desktop/pm_helmet labeling\\\\pm_helmet00079.jpg',\n",
       " 'C:/Users/user/Desktop/pm_helmet labeling\\\\pm_helmet00079.txt',\n",
       " 'C:/Users/user/Desktop/pm_helmet labeling\\\\pm_helmet00080.jpg',\n",
       " 'C:/Users/user/Desktop/pm_helmet labeling\\\\pm_helmet00080.txt',\n",
       " 'C:/Users/user/Desktop/pm_helmet labeling\\\\pm_helmet00081.jpg',\n",
       " 'C:/Users/user/Desktop/pm_helmet labeling\\\\pm_helmet00081.txt',\n",
       " 'C:/Users/user/Desktop/pm_helmet labeling\\\\pm_helmet00082.jpg',\n",
       " 'C:/Users/user/Desktop/pm_helmet labeling\\\\pm_helmet00082.txt',\n",
       " 'C:/Users/user/Desktop/pm_helmet labeling\\\\pm_helmet00083.jpg',\n",
       " 'C:/Users/user/Desktop/pm_helmet labeling\\\\pm_helmet00083.txt',\n",
       " 'C:/Users/user/Desktop/pm_helmet labeling\\\\pm_helmet00084.jpg',\n",
       " 'C:/Users/user/Desktop/pm_helmet labeling\\\\pm_helmet00084.txt']"
      ]
     },
     "execution_count": 7,
     "metadata": {},
     "output_type": "execute_result"
    }
   ],
   "source": [
    "file_path_abs"
   ]
  },
  {
   "cell_type": "code",
   "execution_count": 8,
   "id": "996cc269",
   "metadata": {},
   "outputs": [
    {
     "data": {
      "text/plain": [
       "['pm_helmet00043', 'jpg']"
      ]
     },
     "execution_count": 8,
     "metadata": {},
     "output_type": "execute_result"
    }
   ],
   "source": [
    "file_name = os.path.basename(file_path_abs[84]) # 잘 됐는지 확인 작업\n",
    "file_name.split('.')"
   ]
  },
  {
   "cell_type": "code",
   "execution_count": 18,
   "id": "a0793c2c",
   "metadata": {},
   "outputs": [],
   "source": [
    "i = 1\n",
    "j = 1\n",
    "# i와 j를 밖에 빼는 것을 잊지 말기~\n",
    "for file in file_path_abs:\n",
    "    dir_path = os.path.dirname(file)\n",
    "    file_name = os.path.basename(file)\n",
    "    if file_name.split('.')[1] == 'jpg':\n",
    "        file_name_new = 'pm_helmet{:05d}.'.format(i)+file_name.split('.')[1]\n",
    "        #포맷팅 뒤에 .을 생략하면 확장자가 없어지고 그냥 파일이 된다.\n",
    "        i+=1 \n",
    "    elif file_name.split('.')[1] == 'txt':\n",
    "        file_name_new = 'pm_helmet{:05d}.'.format(j)+file_name.split('.')[1] \n",
    "        #포맷팅 뒤에 .을 생략하면 확장자가 없어지고 그냥 파일이 된다.\n",
    "        j+=1  \n",
    "    #if 부분은 file_name_new의 변수를 지정해주는 작업이므로 file_name_new만 지정해준다면 다양하게 변형이 가능하다.\n",
    "    os.rename(file, os.path.join(dir_path, file_name_new)) # rename함수로 파일 이름을 변경"
   ]
  },
  {
   "cell_type": "code",
   "execution_count": null,
   "id": "5aa6c548",
   "metadata": {},
   "outputs": [],
   "source": [
    "for file in file_path_abs:\n",
    "    dir_path = os.path.dirname(file)\n",
    "    file_name = os.path.basename(file)\n",
    "    if file_name_new"
   ]
  }
 ],
 "metadata": {
  "kernelspec": {
   "display_name": "Python 3",
   "language": "python",
   "name": "python3"
  },
  "language_info": {
   "codemirror_mode": {
    "name": "ipython",
    "version": 3
   },
   "file_extension": ".py",
   "mimetype": "text/x-python",
   "name": "python",
   "nbconvert_exporter": "python",
   "pygments_lexer": "ipython3",
   "version": "3.8.8"
  }
 },
 "nbformat": 4,
 "nbformat_minor": 5
}
